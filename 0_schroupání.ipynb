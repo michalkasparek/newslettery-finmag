{
 "cells": [
  {
   "cell_type": "code",
   "execution_count": 5,
   "id": "560e4e32",
   "metadata": {},
   "outputs": [],
   "source": [
    "import os\n",
    "import re\n",
    "from datetime import datetime\n",
    "import pandas as pd\n",
    "from newspaper import Article"
   ]
  },
  {
   "cell_type": "code",
   "execution_count": 6,
   "id": "da2505de",
   "metadata": {},
   "outputs": [],
   "source": [
    "def get_urls(string):\n",
    "    urls = re.findall('http[s]?://(?:[a-zA-Z]|[0-9]|[$-_@.&+~]|[!*\\(\\),]|(?:%[0-9a-fA-F][0-9a-fA-F]))+', string) \n",
    "    return urls"
   ]
  },
  {
   "cell_type": "code",
   "execution_count": 7,
   "id": "d0a641ba",
   "metadata": {},
   "outputs": [
    {
     "ename": "FileNotFoundError",
     "evalue": "[WinError 3] Systém nemůže nalézt uvedenou cestu: 'nls'",
     "output_type": "error",
     "traceback": [
      "\u001b[1;31m---------------------------------------------------------------------------\u001b[0m",
      "\u001b[1;31mFileNotFoundError\u001b[0m                         Traceback (most recent call last)",
      "Cell \u001b[1;32mIn[7], line 2\u001b[0m\n\u001b[0;32m      1\u001b[0m tabulka \u001b[38;5;241m=\u001b[39m {}\n\u001b[1;32m----> 2\u001b[0m newslettery \u001b[38;5;241m=\u001b[39m os\u001b[38;5;241m.\u001b[39mlistdir(\u001b[38;5;124m\"\u001b[39m\u001b[38;5;124mnls\u001b[39m\u001b[38;5;124m\"\u001b[39m)\n\u001b[0;32m      3\u001b[0m count \u001b[38;5;241m=\u001b[39m \u001b[38;5;241m1\u001b[39m\n\u001b[0;32m      4\u001b[0m i \u001b[38;5;241m=\u001b[39m \u001b[38;5;241m0\u001b[39m\n",
      "\u001b[1;31mFileNotFoundError\u001b[0m: [WinError 3] Systém nemůže nalézt uvedenou cestu: 'nls'"
     ]
    }
   ],
   "source": [
    "tabulka = {}\n",
    "newslettery = os.listdir(\"nls\")\n",
    "count = 1\n",
    "i = 0\n",
    "total = len(newslettery)\n",
    "for newsletter in newslettery:\n",
    "    with open(\"nls\" + '/' + newsletter, 'r', encoding=\"utf8\") as n:\n",
    "        obsah = n.read()\n",
    "        urls = get_urls(obsah)\n",
    "        date = os.path.getmtime(\"nls\" + '/' + newsletter)\n",
    "        date = datetime.fromtimestamp(date).strftime('%Y-%m-%d')\n",
    "        for u in urls:\n",
    "            u = u.split(\")\")[0]\n",
    "            u = re.split(\"(^watch)\\?\", u)[0]\n",
    "            meta = []\n",
    "            meta.append(u)\n",
    "            meta.append(date)\n",
    "            try:\n",
    "                article = Article(u)\n",
    "                article.download()\n",
    "                article.parse()\n",
    "                authors = article.authors\n",
    "                title = article.title\n",
    "                meta.append(title)\n",
    "                meta.append(authors)\n",
    "                if \".com\" in u:\n",
    "                    article.nlp()\n",
    "                    keywords = article.keywords\n",
    "                else:\n",
    "                    keywords = []\n",
    "                meta.append(keywords)                \n",
    "            except:\n",
    "                meta.append(['','',''])\n",
    "            tabulka[i] = meta\n",
    "            i += 1\n",
    "    print(str(count) + \"/\" + str(total))\n",
    "    count += 1"
   ]
  },
  {
   "cell_type": "code",
   "execution_count": null,
   "id": "074b15fe",
   "metadata": {},
   "outputs": [],
   "source": [
    "tab = pd.DataFrame.from_dict(tabulka, orient=\"index\", columns=[\"url\",\"datum\",\"titulek\",\"autorstvo\",\"keywords\"]).sort_values(by=\"datum\", ascending=True)"
   ]
  },
  {
   "cell_type": "code",
   "execution_count": null,
   "id": "b96b2dca",
   "metadata": {},
   "outputs": [],
   "source": [
    "tab"
   ]
  },
  {
   "cell_type": "code",
   "execution_count": null,
   "id": "37686829",
   "metadata": {},
   "outputs": [],
   "source": [
    "with open('clanky.json', 'w', encoding='utf-8') as file:\n",
    "    tab[[\"url\",\"titulek\",\"datum\",\"autorstvo\",\"keywords\"]].to_json(file, date_format='iso', orient=\"records\", indent=4, force_ascii=False)"
   ]
  }
 ],
 "metadata": {
  "kernelspec": {
   "display_name": "Python 3 (ipykernel)",
   "language": "python",
   "name": "python3"
  },
  "language_info": {
   "codemirror_mode": {
    "name": "ipython",
    "version": 3
   },
   "file_extension": ".py",
   "mimetype": "text/x-python",
   "name": "python",
   "nbconvert_exporter": "python",
   "pygments_lexer": "ipython3",
   "version": "3.11.5"
  }
 },
 "nbformat": 4,
 "nbformat_minor": 5
}
